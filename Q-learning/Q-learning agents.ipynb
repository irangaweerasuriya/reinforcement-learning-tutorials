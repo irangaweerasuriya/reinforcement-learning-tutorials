{
 "metadata": {
  "name": "",
  "signature": "sha256:0808c37f41a07d1c3121c944a3e45ec5cbbaa676735ed39e092f26625e9e3b24"
 },
 "nbformat": 3,
 "nbformat_minor": 0,
 "worksheets": [
  {
   "cells": [
    {
     "cell_type": "code",
     "collapsed": false,
     "input": [
      "import gym\n",
      "import numpy as np\n",
      "import random \n",
      "import tensorflow as tf\n",
      "import matplotlib.pyplot as plt\n",
      "%matplotlib inline"
     ],
     "language": "python",
     "metadata": {},
     "outputs": [],
     "prompt_number": 1
    },
    {
     "cell_type": "heading",
     "level": 3,
     "metadata": {},
     "source": [
      "Load the environment"
     ]
    },
    {
     "cell_type": "code",
     "collapsed": true,
     "input": [
      "env=gym.make('FrozenLake-v0')\n"
     ],
     "language": "python",
     "metadata": {},
     "outputs": [],
     "prompt_number": 2
    },
    {
     "cell_type": "heading",
     "level": 2,
     "metadata": {},
     "source": [
      "The Q-network Approach"
     ]
    },
    {
     "cell_type": "markdown",
     "metadata": {},
     "source": [
      "Implementing the network itself"
     ]
    },
    {
     "cell_type": "code",
     "collapsed": false,
     "input": [
      "tf.reset_default_graph()"
     ],
     "language": "python",
     "metadata": {},
     "outputs": [],
     "prompt_number": 3
    },
    {
     "cell_type": "code",
     "collapsed": false,
     "input": [
      "inputs1=tf.placeholder(shape=[1,16],dtype=tf.float32)\n",
      "W=tf.Variable(tf.random_uniform([16,4],0,0.01))\n",
      "Qout=tf.matmul(inputs1,W)\n",
      "predict=tf.argmax(Qout,1)"
     ],
     "language": "python",
     "metadata": {},
     "outputs": [],
     "prompt_number": 4
    },
    {
     "cell_type": "code",
     "collapsed": false,
     "input": [
      "nextQ=tf.placeholder(shape=[1,4],dtype=tf.float32)\n",
      "loss=tf.reduce_sum(tf.square(nextQ-Qout))\n",
      "trainer=tf.train.GradientDescentOptimizer(learning_rate=0.1)\n",
      "updateModel=trainer.minimize(loss)"
     ],
     "language": "python",
     "metadata": {},
     "outputs": [],
     "prompt_number": 5
    },
    {
     "cell_type": "heading",
     "level": 3,
     "metadata": {},
     "source": [
      "Training the network"
     ]
    },
    {
     "cell_type": "code",
     "collapsed": false,
     "input": [
      "init=tf.initialize_all_variables()\n",
      "\n",
      "#Set the learning parameters\n",
      "y=0.99\n",
      "e=0.1\n",
      "num_episodes=2000\n",
      "\n",
      "#create list to contain total rewards and steps per episode\n",
      "jList=[]\n",
      "rList=[]\n",
      "with tf.Session() as sess:\n",
      "    sess.run(init)\n",
      "    for i in range(num_episodes):\n",
      "        #Reset environment an get first observation\n",
      "        s=env.reset()\n",
      "        rAll=0\n",
      "        d=False\n",
      "        j=0\n",
      "        while j<99:\n",
      "            j+=1\n",
      "            a,allQ=sess.run([predict,Qout],feed_dict={inputs1:np.identity(16)[s:s+1]})\n",
      "            if np.random.rand(1) <e:\n",
      "                a[0]=env.action_space.sample()\n",
      "                \n",
      "            s1,r,d,_=env.step(a[0])\n",
      "            Q1 = sess.run(Qout,feed_dict={inputs1:np.identity(16)[s1:s1+1]})\n",
      "            maxQ1 = np.max(Q1)\n",
      "            targetQ = allQ\n",
      "            targetQ[0,a[0]] = r + y*maxQ1\n",
      "            _,W1 = sess.run([updateModel,W],feed_dict={inputs1:np.identity(16)[s:s+1],nextQ:targetQ})\n",
      "            rAll += r\n",
      "            s = s1\n",
      "            if d == True:\n",
      "                #Reduce chance of random action as we train the model.\n",
      "                e = 1./((i/50) + 10)\n",
      "                break\n",
      "        jList.append(j)\n",
      "        rList.append(rAll)\n",
      "print \"Percent of succesful episodes: \" + str(sum(rList)/num_episodes) + \"%\""
     ],
     "language": "python",
     "metadata": {},
     "outputs": [
      {
       "output_type": "stream",
       "stream": "stdout",
       "text": [
        "WARNING:tensorflow:From <ipython-input-9-ac8cb49057f3>:1 in <module>.: initialize_all_variables (from tensorflow.python.ops.variables) is deprecated and will be removed after 2017-03-02.\n",
        "Instructions for updating:\n",
        "Use `tf.global_variables_initializer` instead.\n"
       ]
      },
      {
       "output_type": "stream",
       "stream": "stderr",
       "text": [
        "WARNING:tensorflow:From <ipython-input-9-ac8cb49057f3>:1 in <module>.: initialize_all_variables (from tensorflow.python.ops.variables) is deprecated and will be removed after 2017-03-02.\n",
        "Instructions for updating:\n",
        "Use `tf.global_variables_initializer` instead.\n"
       ]
      },
      {
       "output_type": "stream",
       "stream": "stdout",
       "text": [
        "Percent of succesful episodes: 0.45%\n"
       ]
      }
     ],
     "prompt_number": 9
    },
    {
     "cell_type": "code",
     "collapsed": false,
     "input": [
      "plt.plot(rList)"
     ],
     "language": "python",
     "metadata": {},
     "outputs": [
      {
       "metadata": {},
       "output_type": "pyout",
       "prompt_number": 10,
       "text": [
        "[<matplotlib.lines.Line2D at 0x7fca9802d490>]"
       ]
      },
      {
       "metadata": {},
       "output_type": "display_data",
       "png": "[encoded data removed]",
       "text": [
        "<matplotlib.figure.Figure at 0x7fca9908be10>"
       ]
      }
     ],
     "prompt_number": 10
    },
    {
     "cell_type": "code",
     "collapsed": false,
     "input": [
      "plt.plot(jList)"
     ],
     "language": "python",
     "metadata": {},
     "outputs": [
      {
       "metadata": {},
       "output_type": "pyout",
       "prompt_number": 11,
       "text": [
        "[<matplotlib.lines.Line2D at 0x7fca71799150>]"
       ]
      },
      {
       "metadata": {},
       "output_type": "display_data",
       "png": "[encoded data removed]",
       "text": [
        "<matplotlib.figure.Figure at 0x7fca71950f50>"
       ]
      }
     ],
     "prompt_number": 11
    }
   ],
   "metadata": {}
  }
 ]
}