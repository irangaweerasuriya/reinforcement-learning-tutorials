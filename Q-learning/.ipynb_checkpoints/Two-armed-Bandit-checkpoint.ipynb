{
 "metadata": {
  "name": "",
  "signature": "sha256:cca729a5fd95b877101a161ac079386196073941bf956f02661247a05ffb4063"
 },
 "nbformat": 3,
 "nbformat_minor": 0,
 "worksheets": [
  {
   "cells": [
    {
     "cell_type": "markdown",
     "metadata": {},
     "source": [
      "The agent tries out every arm to learn about them and for each action ,receives a reward of either 1 or -1. This reward is applied in the policy loss equation\n",
      "<img src='policy loss equation.png'>"
     ]
    },
    {
     "cell_type": "code",
     "collapsed": false,
     "input": [],
     "language": "python",
     "metadata": {},
     "outputs": []
    }
   ],
   "metadata": {}
  }
 ]
}