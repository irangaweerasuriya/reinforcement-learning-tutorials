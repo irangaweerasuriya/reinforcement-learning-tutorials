{
 "metadata": {
  "name": "",
  "signature": "sha256:49e7b69dcd76e859413eeb95649ae4b451ffc0506c6c54c86b7cb2b00e4aad82"
 },
 "nbformat": 3,
 "nbformat_minor": 0,
 "worksheets": [
  {
   "cells": [
    {
     "cell_type": "markdown",
     "metadata": {},
     "source": [
      "The agent tries out every arm to learn about them and for each action ,receives a reward of either 1 or -1. This reward is applied in the policy loss equation\n"
     ]
    },
    {
     "cell_type": "code",
     "collapsed": false,
     "input": [
      "import tensorflow as tf\n",
      "import numpy as np\n"
     ],
     "language": "python",
     "metadata": {},
     "outputs": [],
     "prompt_number": 1
    },
    {
     "cell_type": "code",
     "collapsed": false,
     "input": [
      "bandits = [0.2,0,-0.2,-5]\n",
      "num_bandits = len(bandits)\n",
      "def pullBandit(bandit):\n",
      "    #Get a random number.\n",
      "    result = np.random.randn(1)\n",
      "    if result > bandit:\n",
      "        #return a positive reward.\n",
      "        return 1\n",
      "    else:\n",
      "        #return a negative reward.\n",
      "        return -1"
     ],
     "language": "python",
     "metadata": {},
     "outputs": [],
     "prompt_number": 2
    },
    {
     "cell_type": "heading",
     "level": 3,
     "metadata": {},
     "source": [
      "The Agent"
     ]
    },
    {
     "cell_type": "code",
     "collapsed": false,
     "input": [
      "tf.reset_default_graph()\n",
      "\n",
      "#These two lines established the feed-forward part of the network. This does the actual choosing.\n",
      "weights = tf.Variable(tf.ones([num_bandits]))\n",
      "chosen_action = tf.argmax(weights,0)\n",
      "#The next six lines establish the training proceedure. We feed the reward and chosen action into the network\n",
      "#to compute the loss, and use it to update the network.\n",
      "reward_holder = tf.placeholder(shape=[1],dtype=tf.float32)\n",
      "action_holder = tf.placeholder(shape=[1],dtype=tf.int32)\n",
      "responsible_weight = tf.slice(weights,action_holder,[1])\n",
      "loss = -(tf.log(responsible_weight)*reward_holder)\n",
      "optimizer = tf.train.GradientDescentOptimizer(learning_rate=0.001)\n",
      "update = optimizer.minimize(loss)"
     ],
     "language": "python",
     "metadata": {},
     "outputs": [],
     "prompt_number": 3
    },
    {
     "cell_type": "heading",
     "level": 3,
     "metadata": {},
     "source": [
      "Training the Agent\n"
     ]
    },
    {
     "cell_type": "code",
     "collapsed": false,
     "input": [
      "total_episodes = 1000 #Set total number of episodes to train agent on.\n",
      "total_reward = np.zeros(num_bandits) #Set scoreboard for bandits to 0.\n",
      "e = 0.1 #Set the chance of taking a random action.\n",
      "\n",
      "init = tf.initialize_all_variables()\n",
      "\n",
      "# Launch the tensorflow graph\n",
      "with tf.Session() as sess:\n",
      "    sess.run(init)\n",
      "    i = 0\n",
      "    while i < total_episodes:\n",
      "        \n",
      "        #Choose either a random action or one from our network.\n",
      "        if np.random.rand(1) < e:\n",
      "            action = np.random.randint(num_bandits)\n",
      "        else:\n",
      "            action = sess.run(chosen_action)\n",
      "        \n",
      "        reward = pullBandit(bandits[action]) #Get our reward from picking one of the bandits.\n",
      "        \n",
      "        #Update the network.\n",
      "        _,resp,ww = sess.run([update,responsible_weight,weights], feed_dict={reward_holder:[reward],action_holder:[action]})\n",
      "        \n",
      "        #Update our running tally of scores.\n",
      "        total_reward[action] += reward\n",
      "        if i % 50 == 0:\n",
      "            print \"Running reward for the \" + str(num_bandits) + \" bandits: \" + str(total_reward)\n",
      "        i+=1\n",
      "print \"The agent thinks bandit \" + str(np.argmax(ww)+1) + \" is the most promising....\"\n",
      "if np.argmax(ww) == np.argmax(-np.array(bandits)):\n",
      "    print \"...and it was right!\"\n",
      "else:\n",
      "    print \"...and it was wrong!\""
     ],
     "language": "python",
     "metadata": {},
     "outputs": [
      {
       "output_type": "stream",
       "stream": "stdout",
       "text": [
        "WARNING:tensorflow:From <ipython-input-6-3d617c048f9c>:5 in <module>.: initialize_all_variables (from tensorflow.python.ops.variables) is deprecated and will be removed after 2017-03-02.\n",
        "Instructions for updating:\n",
        "Use `tf.global_variables_initializer` instead.\n"
       ]
      },
      {
       "output_type": "stream",
       "stream": "stderr",
       "text": [
        "WARNING:tensorflow:From <ipython-input-6-3d617c048f9c>:5 in <module>.: initialize_all_variables (from tensorflow.python.ops.variables) is deprecated and will be removed after 2017-03-02.\n",
        "Instructions for updating:\n",
        "Use `tf.global_variables_initializer` instead.\n"
       ]
      },
      {
       "output_type": "stream",
       "stream": "stdout",
       "text": [
        "Running reward for the 4 bandits: [ 1.  0.  0.  0.]\n",
        "Running reward for the 4 bandits: [ -1.  -1.  -2.  33.]\n",
        "Running reward for the 4 bandits: [ -1.  -2.  -1.  81.]"
       ]
      },
      {
       "output_type": "stream",
       "stream": "stdout",
       "text": [
        "\n",
        "Running reward for the 4 bandits: [   0.   -2.   -2.  129.]\n",
        "Running reward for the 4 bandits: [  -2.   -3.   -1.  175.]"
       ]
      },
      {
       "output_type": "stream",
       "stream": "stdout",
       "text": [
        "\n",
        "Running reward for the 4 bandits: [  -4.   -5.   -1.  221.]\n",
        "Running reward for the 4 bandits: [  -5.   -3.    0.  265.]"
       ]
      },
      {
       "output_type": "stream",
       "stream": "stdout",
       "text": [
        "\n",
        "Running reward for the 4 bandits: [  -5.   -3.    2.  311.]\n",
        "Running reward for the 4 bandits: [  -5.   -2.    2.  358.]"
       ]
      },
      {
       "output_type": "stream",
       "stream": "stdout",
       "text": [
        "\n",
        "Running reward for the 4 bandits: [  -4.   -2.    1.  404.]\n",
        "Running reward for the 4 bandits: [  -5.   -2.    2.  452.]"
       ]
      },
      {
       "output_type": "stream",
       "stream": "stdout",
       "text": [
        "\n",
        "Running reward for the 4 bandits: [  -5.   -2.    3.  497.]\n",
        "Running reward for the 4 bandits: [  -6.   -2.    4.  543.]"
       ]
      },
      {
       "output_type": "stream",
       "stream": "stdout",
       "text": [
        "\n",
        "Running reward for the 4 bandits: [  -4.   -2.    5.  588.]\n",
        "Running reward for the 4 bandits: [  -5.    2.    5.  633.]"
       ]
      },
      {
       "output_type": "stream",
       "stream": "stdout",
       "text": [
        "\n",
        "Running reward for the 4 bandits: [  -5.    2.    6.  682.]\n",
        "Running reward for the 4 bandits: [  -5.    3.    8.  729.]"
       ]
      },
      {
       "output_type": "stream",
       "stream": "stdout",
       "text": [
        "\n",
        "Running reward for the 4 bandits: [  -5.    2.    8.  776.]\n",
        "Running reward for the 4 bandits: [  -3.    2.   10.  822.]"
       ]
      },
      {
       "output_type": "stream",
       "stream": "stdout",
       "text": [
        "\n",
        "Running reward for the 4 bandits: [  -4.    2.   11.  868.]\n",
        "The agent thinks bandit 4 is the most promising...."
       ]
      },
      {
       "output_type": "stream",
       "stream": "stdout",
       "text": [
        "\n",
        "...and it was right!\n"
       ]
      }
     ],
     "prompt_number": 6
    },
    {
     "cell_type": "code",
     "collapsed": false,
     "input": [],
     "language": "python",
     "metadata": {},
     "outputs": []
    }
   ],
   "metadata": {}
  }
 ]
}